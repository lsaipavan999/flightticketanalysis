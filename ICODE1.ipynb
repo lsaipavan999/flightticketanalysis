{
 "cells": [
  {
   "cell_type": "code",
   "execution_count": 1,
   "id": "17f88fb5",
   "metadata": {},
   "outputs": [],
   "source": [
    "# Importing the libraries \n",
    "\n",
    "import pandas as pd\n",
    "import numpy as np \n",
    "import matplotlib.pyplot as plt\n",
    "\n",
    "# Ignore harmless warnings \n",
    "\n",
    "import warnings \n",
    "warnings.filterwarnings(\"ignore\")\n",
    "\n",
    "# Set to display all the columns in dataset\n",
    "\n",
    "pd.set_option(\"display.max_columns\", None)\n",
    "\n",
    "# Import psql to run queries \n",
    "\n",
    "import pandasql as psql"
   ]
  },
  {
   "cell_type": "code",
   "execution_count": 2,
   "id": "2d4231d4",
   "metadata": {},
   "outputs": [],
   "source": [
    "cbdata = pd.read_csv(r\"C:\\Users\\harsh\\OneDrive\\Desktop\\Iproject\\bike_data.csv\",header=0)\n",
    "cbdata_bk=cbdata.copy()"
   ]
  },
  {
   "cell_type": "code",
   "execution_count": 3,
   "id": "c38a32c4",
   "metadata": {},
   "outputs": [
    {
     "name": "stdout",
     "output_type": "stream",
     "text": [
      "<class 'pandas.core.frame.DataFrame'>\n",
      "RangeIndex: 103049 entries, 0 to 103048\n",
      "Data columns (total 19 columns):\n",
      " #   Column                   Non-Null Count   Dtype  \n",
      "---  ------                   --------------   -----  \n",
      " 0   Unnamed: 0               103049 non-null  int64  \n",
      " 1   tripduration             103049 non-null  int64  \n",
      " 2   starttime                103049 non-null  object \n",
      " 3   stoptime                 103049 non-null  object \n",
      " 4   start.station.id         103049 non-null  int64  \n",
      " 5   start.station.name       103049 non-null  object \n",
      " 6   start.station.latitude   103049 non-null  float64\n",
      " 7   start.station.longitude  103049 non-null  float64\n",
      " 8   end.station.id           103049 non-null  int64  \n",
      " 9   end.station.name         103049 non-null  object \n",
      " 10  end.station.latitude     103049 non-null  float64\n",
      " 11  end.station.longitude    103049 non-null  float64\n",
      " 12  bikeid                   103049 non-null  int64  \n",
      " 13  usertype                 103049 non-null  object \n",
      " 14  birth.year               103049 non-null  int64  \n",
      " 15  gender                   90401 non-null   object \n",
      " 16  age                      103049 non-null  int64  \n",
      " 17  log_trip                 103049 non-null  float64\n",
      " 18  year                     103049 non-null  object \n",
      "dtypes: float64(5), int64(7), object(7)\n",
      "memory usage: 14.9+ MB\n"
     ]
    }
   ],
   "source": [
    "cbdata.info()"
   ]
  },
  {
   "cell_type": "code",
   "execution_count": 4,
   "id": "e542f33b",
   "metadata": {},
   "outputs": [
    {
     "data": {
      "text/plain": [
       "Unnamed: 0                     0\n",
       "tripduration                   0\n",
       "starttime                      0\n",
       "stoptime                       0\n",
       "start.station.id               0\n",
       "start.station.name             0\n",
       "start.station.latitude         0\n",
       "start.station.longitude        0\n",
       "end.station.id                 0\n",
       "end.station.name               0\n",
       "end.station.latitude           0\n",
       "end.station.longitude          0\n",
       "bikeid                         0\n",
       "usertype                       0\n",
       "birth.year                     0\n",
       "gender                     12648\n",
       "age                            0\n",
       "log_trip                       0\n",
       "year                           0\n",
       "dtype: int64"
      ]
     },
     "execution_count": 4,
     "metadata": {},
     "output_type": "execute_result"
    }
   ],
   "source": [
    "cbdata.isnull().sum()"
   ]
  },
  {
   "cell_type": "code",
   "execution_count": 5,
   "id": "e2ff61bf",
   "metadata": {},
   "outputs": [],
   "source": [
    "del cbdata['Unnamed: 0']\n",
    "del cbdata['start.station.name']\n",
    "del cbdata['end.station.name']\n"
   ]
  },
  {
   "cell_type": "code",
   "execution_count": 6,
   "id": "463d2dd9",
   "metadata": {},
   "outputs": [
    {
     "name": "stdout",
     "output_type": "stream",
     "text": [
      "<class 'pandas.core.frame.DataFrame'>\n",
      "RangeIndex: 103049 entries, 0 to 103048\n",
      "Data columns (total 16 columns):\n",
      " #   Column                   Non-Null Count   Dtype  \n",
      "---  ------                   --------------   -----  \n",
      " 0   tripduration             103049 non-null  int64  \n",
      " 1   starttime                103049 non-null  object \n",
      " 2   stoptime                 103049 non-null  object \n",
      " 3   start.station.id         103049 non-null  int64  \n",
      " 4   start.station.latitude   103049 non-null  float64\n",
      " 5   start.station.longitude  103049 non-null  float64\n",
      " 6   end.station.id           103049 non-null  int64  \n",
      " 7   end.station.latitude     103049 non-null  float64\n",
      " 8   end.station.longitude    103049 non-null  float64\n",
      " 9   bikeid                   103049 non-null  int64  \n",
      " 10  usertype                 103049 non-null  object \n",
      " 11  birth.year               103049 non-null  int64  \n",
      " 12  gender                   90401 non-null   object \n",
      " 13  age                      103049 non-null  int64  \n",
      " 14  log_trip                 103049 non-null  float64\n",
      " 15  year                     103049 non-null  object \n",
      "dtypes: float64(5), int64(6), object(5)\n",
      "memory usage: 12.6+ MB\n"
     ]
    }
   ],
   "source": [
    "cbdata.info()"
   ]
  },
  {
   "cell_type": "code",
   "execution_count": 8,
   "id": "dc0e3c06",
   "metadata": {},
   "outputs": [],
   "source": [
    "from sklearn.impute import SimpleImputer\n",
    "\n",
    "imputer_str = SimpleImputer(missing_values=np.nan, strategy='most_frequent', fill_value=None,\n",
    "                            verbose=0,copy=True, add_indicator=False)\n",
    "cbdata['gender'] = imputer_str.fit_transform(cbdata[['gender']])"
   ]
  },
  {
   "cell_type": "code",
   "execution_count": 9,
   "id": "bfe332f5",
   "metadata": {},
   "outputs": [
    {
     "name": "stdout",
     "output_type": "stream",
     "text": [
      "<class 'pandas.core.frame.DataFrame'>\n",
      "RangeIndex: 103049 entries, 0 to 103048\n",
      "Data columns (total 16 columns):\n",
      " #   Column                   Non-Null Count   Dtype  \n",
      "---  ------                   --------------   -----  \n",
      " 0   tripduration             103049 non-null  int64  \n",
      " 1   starttime                103049 non-null  object \n",
      " 2   stoptime                 103049 non-null  object \n",
      " 3   start.station.id         103049 non-null  int64  \n",
      " 4   start.station.latitude   103049 non-null  float64\n",
      " 5   start.station.longitude  103049 non-null  float64\n",
      " 6   end.station.id           103049 non-null  int64  \n",
      " 7   end.station.latitude     103049 non-null  float64\n",
      " 8   end.station.longitude    103049 non-null  float64\n",
      " 9   bikeid                   103049 non-null  int64  \n",
      " 10  usertype                 103049 non-null  object \n",
      " 11  birth.year               103049 non-null  int64  \n",
      " 12  gender                   103049 non-null  object \n",
      " 13  age                      103049 non-null  int64  \n",
      " 14  log_trip                 103049 non-null  float64\n",
      " 15  year                     103049 non-null  object \n",
      "dtypes: float64(5), int64(6), object(5)\n",
      "memory usage: 12.6+ MB\n"
     ]
    }
   ],
   "source": [
    "cbdata.info()"
   ]
  },
  {
   "cell_type": "code",
   "execution_count": 10,
   "id": "0c9e78fe",
   "metadata": {},
   "outputs": [],
   "source": [
    "# Use LabelEncoder to handle categorical data\n",
    "\n",
    "from sklearn.preprocessing import LabelEncoder\n",
    "\n",
    "LE = LabelEncoder()\n",
    "\n",
    "cbdata['starttime'] = LE.fit_transform(cbdata[['starttime']])\n",
    "cbdata['stoptime'] = LE.fit_transform(cbdata[['stoptime']])\n",
    "cbdata['usertype'] = LE.fit_transform(cbdata[['usertype']])\n",
    "cbdata['gender'] = LE.fit_transform(cbdata[['gender']])\n",
    "cbdata['year'] = LE.fit_transform(cbdata[['year']])"
   ]
  },
  {
   "cell_type": "code",
   "execution_count": 11,
   "id": "1c0d2641",
   "metadata": {},
   "outputs": [
    {
     "name": "stdout",
     "output_type": "stream",
     "text": [
      "<class 'pandas.core.frame.DataFrame'>\n",
      "RangeIndex: 103049 entries, 0 to 103048\n",
      "Data columns (total 16 columns):\n",
      " #   Column                   Non-Null Count   Dtype  \n",
      "---  ------                   --------------   -----  \n",
      " 0   tripduration             103049 non-null  int64  \n",
      " 1   starttime                103049 non-null  int32  \n",
      " 2   stoptime                 103049 non-null  int32  \n",
      " 3   start.station.id         103049 non-null  int64  \n",
      " 4   start.station.latitude   103049 non-null  float64\n",
      " 5   start.station.longitude  103049 non-null  float64\n",
      " 6   end.station.id           103049 non-null  int64  \n",
      " 7   end.station.latitude     103049 non-null  float64\n",
      " 8   end.station.longitude    103049 non-null  float64\n",
      " 9   bikeid                   103049 non-null  int64  \n",
      " 10  usertype                 103049 non-null  int32  \n",
      " 11  birth.year               103049 non-null  int64  \n",
      " 12  gender                   103049 non-null  int32  \n",
      " 13  age                      103049 non-null  int64  \n",
      " 14  log_trip                 103049 non-null  float64\n",
      " 15  year                     103049 non-null  int32  \n",
      "dtypes: float64(5), int32(5), int64(6)\n",
      "memory usage: 10.6 MB\n"
     ]
    }
   ],
   "source": [
    "cbdata.info()"
   ]
  },
  {
   "cell_type": "code",
   "execution_count": 12,
   "id": "c6501b86",
   "metadata": {},
   "outputs": [],
   "source": [
    "IndepVar = []\n",
    "for col in cbdata.columns:\n",
    "    if col != 'year':\n",
    "        IndepVar.append(col)\n",
    "TargetVar = 'year'\n",
    "x=cbdata[IndepVar]\n",
    "y=cbdata[TargetVar]"
   ]
  },
  {
   "cell_type": "code",
   "execution_count": 13,
   "id": "602ce731",
   "metadata": {},
   "outputs": [
    {
     "data": {
      "text/plain": [
       "((72134, 15), (30915, 15), (72134,), (30915,))"
      ]
     },
     "execution_count": 13,
     "metadata": {},
     "output_type": "execute_result"
    }
   ],
   "source": [
    "from sklearn.model_selection import train_test_split\n",
    "\n",
    "x_train, x_test, y_train, y_test = train_test_split(x,y,test_size=0.3,random_state = 42)\n",
    "x_train.shape,x_test.shape,y_train.shape,y_test.shape"
   ]
  },
  {
   "cell_type": "code",
   "execution_count": 14,
   "id": "75bbf99c",
   "metadata": {},
   "outputs": [],
   "source": [
    "from sklearn.preprocessing import MinMaxScaler\n",
    "mmscaler = MinMaxScaler(feature_range=(0, 1))\n",
    "\n",
    "x_train_scaled = mmscaler.fit_transform(x_train)\n",
    "x_train = pd.DataFrame(x_train_scaled)\n",
    "\n",
    "x_test_scaled = mmscaler.fit_transform(x_test)\n",
    "x_test = pd.DataFrame(x_test_scaled)"
   ]
  },
  {
   "cell_type": "code",
   "execution_count": 23,
   "id": "f65607d9",
   "metadata": {},
   "outputs": [
    {
     "data": {
      "text/html": [
       "<div>\n",
       "<style scoped>\n",
       "    .dataframe tbody tr th:only-of-type {\n",
       "        vertical-align: middle;\n",
       "    }\n",
       "\n",
       "    .dataframe tbody tr th {\n",
       "        vertical-align: top;\n",
       "    }\n",
       "\n",
       "    .dataframe thead th {\n",
       "        text-align: right;\n",
       "    }\n",
       "</style>\n",
       "<table border=\"1\" class=\"dataframe\">\n",
       "  <thead>\n",
       "    <tr style=\"text-align: right;\">\n",
       "      <th></th>\n",
       "      <th>Model Name</th>\n",
       "      <th>KNN K Value</th>\n",
       "      <th>True_Positive</th>\n",
       "      <th>False_Negative</th>\n",
       "      <th>False_Positive</th>\n",
       "      <th>True_Negative</th>\n",
       "      <th>Accuracy</th>\n",
       "      <th>Precision</th>\n",
       "      <th>Recall</th>\n",
       "      <th>F1 Score</th>\n",
       "      <th>Specificity</th>\n",
       "      <th>MCC</th>\n",
       "      <th>ROC_AUC_Score</th>\n",
       "      <th>Balanced Accuracy</th>\n",
       "    </tr>\n",
       "  </thead>\n",
       "  <tbody>\n",
       "  </tbody>\n",
       "</table>\n",
       "</div>"
      ],
      "text/plain": [
       "Empty DataFrame\n",
       "Columns: [Model Name, KNN K Value, True_Positive, False_Negative, False_Positive, True_Negative, Accuracy, Precision, Recall, F1 Score, Specificity, MCC, ROC_AUC_Score, Balanced Accuracy]\n",
       "Index: []"
      ]
     },
     "execution_count": 23,
     "metadata": {},
     "output_type": "execute_result"
    }
   ],
   "source": [
    "HF_Results = pd.read_csv(r\"C:\\Users\\harsh\\OneDrive\\Desktop\\Iproject\\hf_results.csv\",header=0)\n",
    "HF_Results.head()"
   ]
  },
  {
   "cell_type": "code",
   "execution_count": 24,
   "id": "44253287",
   "metadata": {},
   "outputs": [
    {
     "name": "stdout",
     "output_type": "stream",
     "text": [
      "Model Name:  LogisticRegression()\n",
      "Confusion matrix : \n",
      " [[16126   105]\n",
      " [    1 14683]]\n",
      "Outcome values : \n",
      " 16126 105 1 14683\n",
      "Classification report : \n",
      "               precision    recall  f1-score   support\n",
      "\n",
      "           1       1.00      0.99      1.00     16231\n",
      "           0       0.99      1.00      1.00     14684\n",
      "\n",
      "    accuracy                           1.00     30915\n",
      "   macro avg       1.00      1.00      1.00     30915\n",
      "weighted avg       1.00      1.00      1.00     30915\n",
      "\n",
      "Accuracy : 99.7 %\n",
      "Precision : 100.0 %\n",
      "Recall : 99.4 %\n",
      "F1 Score : 0.997\n",
      "Specificity or True Negative Rate : 100.0 %\n",
      "Balanced Accuracy : 99.7 %\n",
      "roc_auc_score: 0.997\n"
     ]
    },
    {
     "data": {
      "image/png": "[encoded data removed]",
      "text/plain": [
       "<Figure size 432x288 with 1 Axes>"
      ]
     },
     "metadata": {
      "needs_background": "light"
     },
     "output_type": "display_data"
    },
    {
     "name": "stdout",
     "output_type": "stream",
     "text": [
      "-----------------------------------------------------------------------------------------------------\n",
      "Model Name:  DecisionTreeClassifier()\n",
      "Confusion matrix : \n",
      " [[16231     0]\n",
      " [    0 14684]]\n",
      "Outcome values : \n",
      " 16231 0 0 14684\n",
      "Classification report : \n",
      "               precision    recall  f1-score   support\n",
      "\n",
      "           1       1.00      1.00      1.00     16231\n",
      "           0       1.00      1.00      1.00     14684\n",
      "\n",
      "    accuracy                           1.00     30915\n",
      "   macro avg       1.00      1.00      1.00     30915\n",
      "weighted avg       1.00      1.00      1.00     30915\n",
      "\n",
      "Accuracy : 100.0 %\n",
      "Precision : 100.0 %\n",
      "Recall : 100.0 %\n",
      "F1 Score : 1.0\n",
      "Specificity or True Negative Rate : 100.0 %\n",
      "Balanced Accuracy : 100.0 %\n",
      "roc_auc_score: 1.0\n"
     ]
    },
    {
     "data": {
      "image/png": "[encoded data removed]",
      "text/plain": [
       "<Figure size 432x288 with 1 Axes>"
      ]
     },
     "metadata": {
      "needs_background": "light"
     },
     "output_type": "display_data"
    },
    {
     "name": "stdout",
     "output_type": "stream",
     "text": [
      "-----------------------------------------------------------------------------------------------------\n",
      "Model Name:  RandomForestClassifier()\n",
      "Confusion matrix : \n",
      " [[16231     0]\n",
      " [    0 14684]]\n",
      "Outcome values : \n",
      " 16231 0 0 14684\n",
      "Classification report : \n",
      "               precision    recall  f1-score   support\n",
      "\n",
      "           1       1.00      1.00      1.00     16231\n",
      "           0       1.00      1.00      1.00     14684\n",
      "\n",
      "    accuracy                           1.00     30915\n",
      "   macro avg       1.00      1.00      1.00     30915\n",
      "weighted avg       1.00      1.00      1.00     30915\n",
      "\n",
      "Accuracy : 100.0 %\n",
      "Precision : 100.0 %\n",
      "Recall : 100.0 %\n",
      "F1 Score : 1.0\n",
      "Specificity or True Negative Rate : 100.0 %\n",
      "Balanced Accuracy : 100.0 %\n",
      "roc_auc_score: 1.0\n"
     ]
    },
    {
     "data": {
      "image/png": "[encoded data removed]",
      "text/plain": [
       "<Figure size 432x288 with 1 Axes>"
      ]
     },
     "metadata": {
      "needs_background": "light"
     },
     "output_type": "display_data"
    },
    {
     "name": "stdout",
     "output_type": "stream",
     "text": [
      "-----------------------------------------------------------------------------------------------------\n",
      "Model Name:  KNeighborsClassifier()\n",
      "Confusion matrix : \n",
      " [[16072   159]\n",
      " [   31 14653]]\n",
      "Outcome values : \n",
      " 16072 159 31 14653\n",
      "Classification report : \n",
      "               precision    recall  f1-score   support\n",
      "\n",
      "           1       1.00      0.99      0.99     16231\n",
      "           0       0.99      1.00      0.99     14684\n",
      "\n",
      "    accuracy                           0.99     30915\n",
      "   macro avg       0.99      0.99      0.99     30915\n",
      "weighted avg       0.99      0.99      0.99     30915\n",
      "\n",
      "Accuracy : 99.4 %\n",
      "Precision : 99.8 %\n",
      "Recall : 99.0 %\n",
      "F1 Score : 0.994\n",
      "Specificity or True Negative Rate : 99.8 %\n",
      "Balanced Accuracy : 99.4 %\n",
      "roc_auc_score: 0.994\n"
     ]
    },
    {
     "data": {
      "image/png": "[encoded data removed]",
      "text/plain": [
       "<Figure size 432x288 with 1 Axes>"
      ]
     },
     "metadata": {
      "needs_background": "light"
     },
     "output_type": "display_data"
    },
    {
     "name": "stdout",
     "output_type": "stream",
     "text": [
      "-----------------------------------------------------------------------------------------------------\n",
      "Model Name:  SVC(probability=True)\n",
      "Confusion matrix : \n",
      " [[16172    59]\n",
      " [    1 14683]]\n",
      "Outcome values : \n",
      " 16172 59 1 14683\n",
      "Classification report : \n",
      "               precision    recall  f1-score   support\n",
      "\n",
      "           1       1.00      1.00      1.00     16231\n",
      "           0       1.00      1.00      1.00     14684\n",
      "\n",
      "    accuracy                           1.00     30915\n",
      "   macro avg       1.00      1.00      1.00     30915\n",
      "weighted avg       1.00      1.00      1.00     30915\n",
      "\n",
      "Accuracy : 99.8 %\n",
      "Precision : 100.0 %\n",
      "Recall : 99.6 %\n",
      "F1 Score : 0.998\n",
      "Specificity or True Negative Rate : 100.0 %\n",
      "Balanced Accuracy : 99.8 %\n",
      "roc_auc_score: 0.998\n"
     ]
    },
    {
     "data": {
      "image/png": "[encoded data removed]",
      "text/plain": [
       "<Figure size 432x288 with 1 Axes>"
      ]
     },
     "metadata": {
      "needs_background": "light"
     },
     "output_type": "display_data"
    },
    {
     "name": "stdout",
     "output_type": "stream",
     "text": [
      "-----------------------------------------------------------------------------------------------------\n",
      "Model Name:  ExtraTreesClassifier()\n",
      "Confusion matrix : \n",
      " [[16224     7]\n",
      " [    0 14684]]\n",
      "Outcome values : \n",
      " 16224 7 0 14684\n",
      "Classification report : \n",
      "               precision    recall  f1-score   support\n",
      "\n",
      "           1       1.00      1.00      1.00     16231\n",
      "           0       1.00      1.00      1.00     14684\n",
      "\n",
      "    accuracy                           1.00     30915\n",
      "   macro avg       1.00      1.00      1.00     30915\n",
      "weighted avg       1.00      1.00      1.00     30915\n",
      "\n",
      "Accuracy : 100.0 %\n",
      "Precision : 100.0 %\n",
      "Recall : 100.0 %\n",
      "F1 Score : 1.0\n",
      "Specificity or True Negative Rate : 100.0 %\n",
      "Balanced Accuracy : 100.0 %\n",
      "roc_auc_score: 1.0\n"
     ]
    },
    {
     "data": {
      "image/png": "[encoded data removed]",
      "text/plain": [
       "<Figure size 432x288 with 1 Axes>"
      ]
     },
     "metadata": {
      "needs_background": "light"
     },
     "output_type": "display_data"
    },
    {
     "name": "stdout",
     "output_type": "stream",
     "text": [
      "-----------------------------------------------------------------------------------------------------\n",
      "Model Name:  GaussianNB()\n",
      "Confusion matrix : \n",
      " [[16137    94]\n",
      " [   74 14610]]\n",
      "Outcome values : \n",
      " 16137 94 74 14610\n",
      "Classification report : \n",
      "               precision    recall  f1-score   support\n",
      "\n",
      "           1       1.00      0.99      0.99     16231\n",
      "           0       0.99      0.99      0.99     14684\n",
      "\n",
      "    accuracy                           0.99     30915\n",
      "   macro avg       0.99      0.99      0.99     30915\n",
      "weighted avg       0.99      0.99      0.99     30915\n",
      "\n",
      "Accuracy : 99.5 %\n",
      "Precision : 99.5 %\n",
      "Recall : 99.4 %\n",
      "F1 Score : 0.995\n",
      "Specificity or True Negative Rate : 99.5 %\n",
      "Balanced Accuracy : 99.4 %\n",
      "roc_auc_score: 0.995\n"
     ]
    },
    {
     "data": {
      "image/png": "[encoded data removed]",
      "text/plain": [
       "<Figure size 432x288 with 1 Axes>"
      ]
     },
     "metadata": {
      "needs_background": "light"
     },
     "output_type": "display_data"
    },
    {
     "name": "stdout",
     "output_type": "stream",
     "text": [
      "-----------------------------------------------------------------------------------------------------\n"
     ]
    }
   ],
   "source": [
    "# Build the Calssification models with Over Sampling and compare the results\n",
    "\n",
    "from sklearn.linear_model import LogisticRegression\n",
    "from sklearn.tree import DecisionTreeClassifier\n",
    "from sklearn.ensemble import RandomForestClassifier\n",
    "from sklearn.neighbors import KNeighborsClassifier\n",
    "from sklearn.svm import SVC\n",
    "from sklearn.ensemble import ExtraTreesClassifier\n",
    "from sklearn.naive_bayes import GaussianNB\n",
    "\n",
    "\n",
    "# Create objects of classification algorithms with default hyper-parameters\n",
    "\n",
    "ModelLR = LogisticRegression()\n",
    "ModelDC = DecisionTreeClassifier()\n",
    "ModelRF = RandomForestClassifier()\n",
    "ModelKN = KNeighborsClassifier()\n",
    "ModelSVM = SVC(probability=True)\n",
    "ModelET = ExtraTreesClassifier()\n",
    "ModelGNB = GaussianNB()\n",
    "\n",
    "\n",
    "\n",
    "# Evalution matrix for all the algorithms\n",
    "\n",
    "#MM = [ModelLR, ModelDC, ModelRF, ModelET, ModelKNN, ModelGNB, ModelSVM, modelXGB, modelLGB]\n",
    "MM = [ModelLR, ModelDC, ModelRF,ModelKN,ModelSVM,ModelET,ModelGNB]\n",
    "for models in MM:\n",
    "    \n",
    "    # Assign values\n",
    "    \n",
    "    #x_train = xo_train\n",
    "    #x_test = xo_test\n",
    "    #y_train = yo_train\n",
    "    #y_test = yo_test\n",
    "            \n",
    "    # Train the model training dataset\n",
    "    \n",
    "    models.fit(x_train, y_train)\n",
    "    \n",
    "    # Prediction the model with test dataset\n",
    "    \n",
    "    y_pred = models.predict(x_test)\n",
    "    y_pred_prob = models.predict_proba(x_test)\n",
    "    \n",
    "    # Print the model name\n",
    "    \n",
    "    print('Model Name: ', models)\n",
    "    \n",
    "    # confusion matrix in sklearn\n",
    "\n",
    "    from sklearn.metrics import confusion_matrix\n",
    "    from sklearn.metrics import classification_report\n",
    "\n",
    "    # actual values\n",
    "\n",
    "    actual = y_test\n",
    "\n",
    "    # predicted values\n",
    "\n",
    "    predicted = y_pred\n",
    "\n",
    "    # confusion matrix\n",
    "\n",
    "    matrix = confusion_matrix(actual,predicted, labels=[1,0],sample_weight=None, normalize=None)\n",
    "    print('Confusion matrix : \\n', matrix)\n",
    "\n",
    "    # outcome values order in sklearn\n",
    "\n",
    "    tp, fn, fp, tn = confusion_matrix(actual,predicted,labels=[1,0]).reshape(-1)\n",
    "    print('Outcome values : \\n', tp, fn, fp, tn)\n",
    "\n",
    "    # classification report for precision, recall f1-score and accuracy\n",
    "\n",
    "    C_Report = classification_report(actual,predicted,labels=[1,0])\n",
    "\n",
    "    print('Classification report : \\n', C_Report)\n",
    "\n",
    "    # calculating the metrics\n",
    "\n",
    "    sensitivity = round(tp/(tp+fn), 3);\n",
    "    specificity = round(tn/(tn+fp), 3);\n",
    "    accuracy = round((tp+tn)/(tp+fp+tn+fn), 3);\n",
    "    balanced_accuracy = round((sensitivity+specificity)/2, 3);\n",
    "    \n",
    "    precision = round(tp/(tp+fp), 3);\n",
    "    f1Score = round((2*tp/(2*tp + fp + fn)), 3);\n",
    "\n",
    "    # Matthews Correlation Coefficient (MCC). Range of values of MCC lie between -1 to +1. \n",
    "    # A model with a score of +1 is a perfect model and -1 is a poor model\n",
    "\n",
    "    #from math import sqrt\n",
    "\n",
    "    #mx = (tp+fp) * (tp+fn) * (tn+fp) * (tn+fn)\n",
    "    #MCC = round(((tp * tn) - (fp * fn)) / sqrt(mx), 3)\n",
    "\n",
    "    print('Accuracy :', round(accuracy*100, 2),'%')\n",
    "    print('Precision :', round(precision*100, 2),'%')\n",
    "    print('Recall :', round(sensitivity*100,2), '%')\n",
    "    print('F1 Score :', f1Score)\n",
    "    print('Specificity or True Negative Rate :', round(specificity*100,2), '%'  )\n",
    "    print('Balanced Accuracy :', round(balanced_accuracy*100, 2),'%')\n",
    "    #print('MCC :', MCC)\n",
    "\n",
    "    # Area under ROC curve \n",
    "\n",
    "    from sklearn.metrics import roc_curve, roc_auc_score\n",
    "\n",
    "    print('roc_auc_score:', round(roc_auc_score(actual, y_pred), 3))\n",
    "    \n",
    "    # ROC Curve\n",
    "    \n",
    "    from sklearn.metrics import roc_auc_score\n",
    "    from sklearn.metrics import roc_curve\n",
    "    Model_roc_auc = roc_auc_score(actual, y_pred)\n",
    "    fpr, tpr, thresholds = roc_curve(actual, models.predict_proba(x_test)[:,1])\n",
    "    plt.figure()\n",
    "    #\n",
    "    plt.plot(fpr, tpr, label= 'Classification Model' % Model_roc_auc)\n",
    "    plt.plot([0, 1], [0, 1],'r--')\n",
    "    plt.xlim([0.0, 1.0])\n",
    "    plt.ylim([0.0, 1.05])\n",
    "    plt.xlabel('False Positive Rate')\n",
    "    plt.ylabel('True Positive Rate')\n",
    "    plt.title('Receiver operating characteristic')\n",
    "    plt.legend(loc=\"lower right\")\n",
    "    plt.savefig('Log_ROC')\n",
    "    plt.show()\n",
    "    print('-----------------------------------------------------------------------------------------------------')\n",
    "    new_row = {'Model Name' : models,\n",
    "               'True Positive': tp,\n",
    "               'False Negative': fn, \n",
    "               'False Positive': fp, \n",
    "               'True Negative': tn,\n",
    "               'Accuracy' : accuracy,\n",
    "               'Precision' : precision,\n",
    "               'Recall' : sensitivity,\n",
    "               'F1 Score' : f1Score,\n",
    "               'Specificity' : specificity,\n",
    "               'MCC': 'MCC',\n",
    "               'ROC_AUC_Score':roc_auc_score(actual, y_pred),\n",
    "               'Balanced Accuracy':balanced_accuracy}\n",
    "    HF_Results = HF_Results.append(new_row, ignore_index=True)"
   ]
  },
  {
   "cell_type": "code",
   "execution_count": 25,
   "id": "6273a245",
   "metadata": {},
   "outputs": [
    {
     "data": {
      "text/html": [
       "<div>\n",
       "<style scoped>\n",
       "    .dataframe tbody tr th:only-of-type {\n",
       "        vertical-align: middle;\n",
       "    }\n",
       "\n",
       "    .dataframe tbody tr th {\n",
       "        vertical-align: top;\n",
       "    }\n",
       "\n",
       "    .dataframe thead th {\n",
       "        text-align: right;\n",
       "    }\n",
       "</style>\n",
       "<table border=\"1\" class=\"dataframe\">\n",
       "  <thead>\n",
       "    <tr style=\"text-align: right;\">\n",
       "      <th></th>\n",
       "      <th>Model Name</th>\n",
       "      <th>KNN K Value</th>\n",
       "      <th>True_Positive</th>\n",
       "      <th>False_Negative</th>\n",
       "      <th>False_Positive</th>\n",
       "      <th>True_Negative</th>\n",
       "      <th>Accuracy</th>\n",
       "      <th>Precision</th>\n",
       "      <th>Recall</th>\n",
       "      <th>F1 Score</th>\n",
       "      <th>Specificity</th>\n",
       "      <th>MCC</th>\n",
       "      <th>ROC_AUC_Score</th>\n",
       "      <th>Balanced Accuracy</th>\n",
       "      <th>False Negative</th>\n",
       "      <th>False Positive</th>\n",
       "      <th>True Negative</th>\n",
       "      <th>True Positive</th>\n",
       "    </tr>\n",
       "  </thead>\n",
       "  <tbody>\n",
       "    <tr>\n",
       "      <th>0</th>\n",
       "      <td>LogisticRegression()</td>\n",
       "      <td>NaN</td>\n",
       "      <td>NaN</td>\n",
       "      <td>NaN</td>\n",
       "      <td>NaN</td>\n",
       "      <td>NaN</td>\n",
       "      <td>0.997</td>\n",
       "      <td>1.0</td>\n",
       "      <td>0.994</td>\n",
       "      <td>0.997</td>\n",
       "      <td>1.0</td>\n",
       "      <td>MCC</td>\n",
       "      <td>0.996731</td>\n",
       "      <td>0.997</td>\n",
       "      <td>105.0</td>\n",
       "      <td>1.0</td>\n",
       "      <td>14683.0</td>\n",
       "      <td>16126.0</td>\n",
       "    </tr>\n",
       "    <tr>\n",
       "      <th>1</th>\n",
       "      <td>DecisionTreeClassifier()</td>\n",
       "      <td>NaN</td>\n",
       "      <td>NaN</td>\n",
       "      <td>NaN</td>\n",
       "      <td>NaN</td>\n",
       "      <td>NaN</td>\n",
       "      <td>1.0</td>\n",
       "      <td>1.0</td>\n",
       "      <td>1.0</td>\n",
       "      <td>1.0</td>\n",
       "      <td>1.0</td>\n",
       "      <td>MCC</td>\n",
       "      <td>1.0</td>\n",
       "      <td>1.0</td>\n",
       "      <td>0.0</td>\n",
       "      <td>0.0</td>\n",
       "      <td>14684.0</td>\n",
       "      <td>16231.0</td>\n",
       "    </tr>\n",
       "    <tr>\n",
       "      <th>2</th>\n",
       "      <td>(DecisionTreeClassifier(max_features='auto', r...</td>\n",
       "      <td>NaN</td>\n",
       "      <td>NaN</td>\n",
       "      <td>NaN</td>\n",
       "      <td>NaN</td>\n",
       "      <td>NaN</td>\n",
       "      <td>1.0</td>\n",
       "      <td>1.0</td>\n",
       "      <td>1.0</td>\n",
       "      <td>1.0</td>\n",
       "      <td>1.0</td>\n",
       "      <td>MCC</td>\n",
       "      <td>1.0</td>\n",
       "      <td>1.0</td>\n",
       "      <td>0.0</td>\n",
       "      <td>0.0</td>\n",
       "      <td>14684.0</td>\n",
       "      <td>16231.0</td>\n",
       "    </tr>\n",
       "    <tr>\n",
       "      <th>3</th>\n",
       "      <td>KNeighborsClassifier()</td>\n",
       "      <td>NaN</td>\n",
       "      <td>NaN</td>\n",
       "      <td>NaN</td>\n",
       "      <td>NaN</td>\n",
       "      <td>NaN</td>\n",
       "      <td>0.994</td>\n",
       "      <td>0.998</td>\n",
       "      <td>0.99</td>\n",
       "      <td>0.994</td>\n",
       "      <td>0.998</td>\n",
       "      <td>MCC</td>\n",
       "      <td>0.994046</td>\n",
       "      <td>0.994</td>\n",
       "      <td>159.0</td>\n",
       "      <td>31.0</td>\n",
       "      <td>14653.0</td>\n",
       "      <td>16072.0</td>\n",
       "    </tr>\n",
       "    <tr>\n",
       "      <th>4</th>\n",
       "      <td>SVC(probability=True)</td>\n",
       "      <td>NaN</td>\n",
       "      <td>NaN</td>\n",
       "      <td>NaN</td>\n",
       "      <td>NaN</td>\n",
       "      <td>NaN</td>\n",
       "      <td>0.998</td>\n",
       "      <td>1.0</td>\n",
       "      <td>0.996</td>\n",
       "      <td>0.998</td>\n",
       "      <td>1.0</td>\n",
       "      <td>MCC</td>\n",
       "      <td>0.998148</td>\n",
       "      <td>0.998</td>\n",
       "      <td>59.0</td>\n",
       "      <td>1.0</td>\n",
       "      <td>14683.0</td>\n",
       "      <td>16172.0</td>\n",
       "    </tr>\n",
       "    <tr>\n",
       "      <th>5</th>\n",
       "      <td>(ExtraTreeClassifier(random_state=1172538531),...</td>\n",
       "      <td>NaN</td>\n",
       "      <td>NaN</td>\n",
       "      <td>NaN</td>\n",
       "      <td>NaN</td>\n",
       "      <td>NaN</td>\n",
       "      <td>1.0</td>\n",
       "      <td>1.0</td>\n",
       "      <td>1.0</td>\n",
       "      <td>1.0</td>\n",
       "      <td>1.0</td>\n",
       "      <td>MCC</td>\n",
       "      <td>0.999784</td>\n",
       "      <td>1.0</td>\n",
       "      <td>7.0</td>\n",
       "      <td>0.0</td>\n",
       "      <td>14684.0</td>\n",
       "      <td>16224.0</td>\n",
       "    </tr>\n",
       "    <tr>\n",
       "      <th>6</th>\n",
       "      <td>GaussianNB()</td>\n",
       "      <td>NaN</td>\n",
       "      <td>NaN</td>\n",
       "      <td>NaN</td>\n",
       "      <td>NaN</td>\n",
       "      <td>NaN</td>\n",
       "      <td>0.995</td>\n",
       "      <td>0.995</td>\n",
       "      <td>0.994</td>\n",
       "      <td>0.995</td>\n",
       "      <td>0.995</td>\n",
       "      <td>MCC</td>\n",
       "      <td>0.994585</td>\n",
       "      <td>0.994</td>\n",
       "      <td>94.0</td>\n",
       "      <td>74.0</td>\n",
       "      <td>14610.0</td>\n",
       "      <td>16137.0</td>\n",
       "    </tr>\n",
       "  </tbody>\n",
       "</table>\n",
       "</div>"
      ],
      "text/plain": [
       "                                          Model Name KNN K Value  \\\n",
       "0                               LogisticRegression()         NaN   \n",
       "1                           DecisionTreeClassifier()         NaN   \n",
       "2  (DecisionTreeClassifier(max_features='auto', r...         NaN   \n",
       "3                             KNeighborsClassifier()         NaN   \n",
       "4                              SVC(probability=True)         NaN   \n",
       "5  (ExtraTreeClassifier(random_state=1172538531),...         NaN   \n",
       "6                                       GaussianNB()         NaN   \n",
       "\n",
       "  True_Positive False_Negative False_Positive True_Negative Accuracy  \\\n",
       "0           NaN            NaN            NaN           NaN    0.997   \n",
       "1           NaN            NaN            NaN           NaN      1.0   \n",
       "2           NaN            NaN            NaN           NaN      1.0   \n",
       "3           NaN            NaN            NaN           NaN    0.994   \n",
       "4           NaN            NaN            NaN           NaN    0.998   \n",
       "5           NaN            NaN            NaN           NaN      1.0   \n",
       "6           NaN            NaN            NaN           NaN    0.995   \n",
       "\n",
       "  Precision Recall F1 Score Specificity  MCC ROC_AUC_Score Balanced Accuracy  \\\n",
       "0       1.0  0.994    0.997         1.0  MCC      0.996731             0.997   \n",
       "1       1.0    1.0      1.0         1.0  MCC           1.0               1.0   \n",
       "2       1.0    1.0      1.0         1.0  MCC           1.0               1.0   \n",
       "3     0.998   0.99    0.994       0.998  MCC      0.994046             0.994   \n",
       "4       1.0  0.996    0.998         1.0  MCC      0.998148             0.998   \n",
       "5       1.0    1.0      1.0         1.0  MCC      0.999784               1.0   \n",
       "6     0.995  0.994    0.995       0.995  MCC      0.994585             0.994   \n",
       "\n",
       "   False Negative  False Positive  True Negative  True Positive  \n",
       "0           105.0             1.0        14683.0        16126.0  \n",
       "1             0.0             0.0        14684.0        16231.0  \n",
       "2             0.0             0.0        14684.0        16231.0  \n",
       "3           159.0            31.0        14653.0        16072.0  \n",
       "4            59.0             1.0        14683.0        16172.0  \n",
       "5             7.0             0.0        14684.0        16224.0  \n",
       "6            94.0            74.0        14610.0        16137.0  "
      ]
     },
     "execution_count": 25,
     "metadata": {},
     "output_type": "execute_result"
    }
   ],
   "source": [
    "HF_Results.head(10)"
   ]
  },
  {
   "cell_type": "code",
   "execution_count": null,
   "id": "af0e901f",
   "metadata": {},
   "outputs": [],
   "source": []
  }
 ],
 "metadata": {
  "kernelspec": {
   "display_name": "Python 3 (ipykernel)",
   "language": "python",
   "name": "python3"
  },
  "language_info": {
   "codemirror_mode": {
    "name": "ipython",
    "version": 3
   },
   "file_extension": ".py",
   "mimetype": "text/x-python",
   "name": "python",
   "nbconvert_exporter": "python",
   "pygments_lexer": "ipython3",
   "version": "3.10.5"
  }
 },
 "nbformat": 4,
 "nbformat_minor": 5
}
